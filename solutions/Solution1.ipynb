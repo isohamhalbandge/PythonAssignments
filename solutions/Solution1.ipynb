{
 "cells": [
  {
   "cell_type": "markdown",
   "id": "267cdef9-b37d-4517-9997-f90a06e9bf86",
   "metadata": {},
   "source": [
    "## Python Basic Variable"
   ]
  },
  {
   "cell_type": "raw",
   "id": "c87e4dfd-c88e-4ebf-9b48-15d93070eed1",
   "metadata": {},
   "source": [
    "Q1. Declare two variables, `x` and `y`, and assign them integer values. Swap the values of these variables without using any temporary variable"
   ]
  },
  {
   "cell_type": "code",
   "execution_count": 3,
   "id": "9972a509-bac9-4554-9d81-f48dcd73348d",
   "metadata": {
    "tags": []
   },
   "outputs": [
    {
     "name": "stdout",
     "output_type": "stream",
     "text": [
      "Before Swapping\n",
      "The value of x =  10\n",
      "The value of y =  20\n",
      "\n",
      "After Swapping\n",
      "The value of x =  20\n",
      "The value of y =  10\n"
     ]
    }
   ],
   "source": [
    "# q1 solution\n",
    "x = 10\n",
    "y = 20\n",
    "print(\"Before Swapping\")\n",
    "print(\"The value of x = \", x)\n",
    "print(\"The value of y = \", y)\n",
    "x, y = y, x\n",
    "print(\"\\nAfter Swapping\")\n",
    "print(\"The value of x = \", x)\n",
    "print(\"The value of y = \", y)"
   ]
  },
  {
   "cell_type": "raw",
   "id": "cbe219a4-0911-481d-b8aa-c6653711450a",
   "metadata": {},
   "source": [
    "Q2. Create a program that calculates the area of a rectangle. Take the length and width as inputs from the user and store them in variables. Calculate and display the area."
   ]
  },
  {
   "cell_type": "code",
   "execution_count": 5,
   "id": "c9ed4c79-bd4c-4259-bc61-42a704c58cd6",
   "metadata": {
    "tags": []
   },
   "outputs": [
    {
     "name": "stdin",
     "output_type": "stream",
     "text": [
      "Enter the length of the rectangle:  5\n",
      "Enter the breadth of the rectangle:  20\n"
     ]
    },
    {
     "name": "stdout",
     "output_type": "stream",
     "text": [
      "The area of rectangle =  100\n"
     ]
    }
   ],
   "source": [
    "# q2 solution\n",
    "length_rectangle = int(input(\"Enter the length of the rectangle: \"))\n",
    "breadth_rectangle = int(input(\"Enter the breadth of the rectangle: \"))\n",
    "area = length_rectangle * breadth_rectangle\n",
    "print(\"The area of rectangle = \", area)"
   ]
  },
  {
   "cell_type": "raw",
   "id": "0d84578f-6c60-41a7-95e8-a899d0995c9f",
   "metadata": {},
   "source": [
    "Q3. Write a Python program that converts temperatures from Celsius to Fahrenheit. Take the temperature in Celsius as input, store it in a variable, convert it to Fahrenheit, and display the result"
   ]
  },
  {
   "cell_type": "code",
   "execution_count": 8,
   "id": "366cae86-f7c1-49b4-a685-9ff2bd83d6a0",
   "metadata": {
    "tags": []
   },
   "outputs": [
    {
     "name": "stdin",
     "output_type": "stream",
     "text": [
      "Enter the temperature in Celcius:  100\n"
     ]
    },
    {
     "name": "stdout",
     "output_type": "stream",
     "text": [
      "The Celcius Temperature:  100\n",
      "The Farenheit Temperature:  212.0\n"
     ]
    }
   ],
   "source": [
    "# q3 solution\n",
    "temp_celcius = int(input(\"Enter the temperature in Celcius: \"))\n",
    "print(\"The Celcius Temperature: \", temp_celcius)\n",
    "temp_farenheit = (temp_celcius * 9 / 5) + 32\n",
    "print(\"The Farenheit Temperature: \", temp_farenheit)"
   ]
  },
  {
   "cell_type": "markdown",
   "id": "8de009e5-c284-49dd-8243-17405e2e5fc0",
   "metadata": {},
   "source": [
    "## String Based Questions"
   ]
  },
  {
   "cell_type": "code",
   "execution_count": null,
   "id": "0d35bccd-7112-43da-8a5f-bff221e578aa",
   "metadata": {},
   "outputs": [],
   "source": []
  }
 ],
 "metadata": {
  "kernelspec": {
   "display_name": "Python 3 (ipykernel)",
   "language": "python",
   "name": "python3"
  },
  "language_info": {
   "codemirror_mode": {
    "name": "ipython",
    "version": 3
   },
   "file_extension": ".py",
   "mimetype": "text/x-python",
   "name": "python",
   "nbconvert_exporter": "python",
   "pygments_lexer": "ipython3",
   "version": "3.11.5"
  }
 },
 "nbformat": 4,
 "nbformat_minor": 5
}
