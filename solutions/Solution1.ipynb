{
 "cells": [
  {
   "cell_type": "markdown",
   "id": "267cdef9-b37d-4517-9997-f90a06e9bf86",
   "metadata": {},
   "source": [
    "## Python Basic Variable"
   ]
  },
  {
   "cell_type": "markdown",
   "id": "98f43d57-5e76-41a8-a780-7bde1f1cc978",
   "metadata": {},
   "source": [
    "Q1. Declare two variables, `x` and `y`, and assign them integer values. Swap the values of these variables without using any temporary variable"
   ]
  },
  {
   "cell_type": "code",
   "execution_count": 9,
   "id": "9972a509-bac9-4554-9d81-f48dcd73348d",
   "metadata": {
    "tags": []
   },
   "outputs": [
    {
     "name": "stdout",
     "output_type": "stream",
     "text": [
      "Before Swapping\n",
      "The value of x =  10\n",
      "The value of y =  20\n",
      "\n",
      "After Swapping\n",
      "The value of x =  20\n",
      "The value of y =  10\n"
     ]
    }
   ],
   "source": [
    "# q1 solution\n",
    "x = 10\n",
    "y = 20\n",
    "print(\"Before Swapping\")\n",
    "print(\"The value of x = \", x)\n",
    "print(\"The value of y = \", y)\n",
    "x, y = y, x\n",
    "print(\"\\nAfter Swapping\")\n",
    "print(\"The value of x = \", x)\n",
    "print(\"The value of y = \", y)"
   ]
  },
  {
   "cell_type": "markdown",
   "id": "78229b22-8a12-4f3a-b6f1-3de5fcc1c17c",
   "metadata": {},
   "source": [
    "Q2. Create a program that calculates the area of a rectangle. Take the length and width as inputs from the user and store them in variables. Calculate and display the area."
   ]
  },
  {
   "cell_type": "code",
   "execution_count": 1,
   "id": "c9ed4c79-bd4c-4259-bc61-42a704c58cd6",
   "metadata": {
    "tags": []
   },
   "outputs": [
    {
     "name": "stdin",
     "output_type": "stream",
     "text": [
      "Enter the length of the rectangle:  5\n",
      "Enter the breadth of the rectangle:  4\n"
     ]
    },
    {
     "name": "stdout",
     "output_type": "stream",
     "text": [
      "The area of rectangle =  20\n"
     ]
    }
   ],
   "source": [
    "# q2 solution\n",
    "length_rectangle = int(input(\"Enter the length of the rectangle: \"))\n",
    "breadth_rectangle = int(input(\"Enter the breadth of the rectangle: \"))\n",
    "area = length_rectangle * breadth_rectangle\n",
    "print(\"The area of rectangle = \", area)"
   ]
  },
  {
   "cell_type": "markdown",
   "id": "615b5ec4-e6d1-47fd-b92a-f25c55f5b2b5",
   "metadata": {},
   "source": [
    "Q3. Write a Python program that converts temperatures from Celsius to Fahrenheit. Take the temperature in Celsius as input, store it in a variable, convert it to Fahrenheit, and display the result"
   ]
  },
  {
   "cell_type": "code",
   "execution_count": 2,
   "id": "366cae86-f7c1-49b4-a685-9ff2bd83d6a0",
   "metadata": {
    "tags": []
   },
   "outputs": [
    {
     "name": "stdin",
     "output_type": "stream",
     "text": [
      "Enter the temperature in Celcius:  100\n"
     ]
    },
    {
     "name": "stdout",
     "output_type": "stream",
     "text": [
      "The Celcius Temperature:  100\n",
      "The Farenheit Temperature:  212.0\n"
     ]
    }
   ],
   "source": [
    "# q3 solution\n",
    "temp_celcius = int(input(\"Enter the temperature in Celcius: \"))\n",
    "print(\"The Celcius Temperature: \", temp_celcius)\n",
    "temp_farenheit = (temp_celcius * 9 / 5) + 32\n",
    "print(\"The Farenheit Temperature: \", temp_farenheit)"
   ]
  },
  {
   "cell_type": "markdown",
   "id": "8de009e5-c284-49dd-8243-17405e2e5fc0",
   "metadata": {},
   "source": [
    "## String Based Questions"
   ]
  },
  {
   "cell_type": "markdown",
   "id": "48ef2516-c2cd-4c43-b5fb-56fae5c629cd",
   "metadata": {},
   "source": [
    "1. Write a Python program that takes a string as input and prints the length of the string."
   ]
  },
  {
   "cell_type": "code",
   "execution_count": 3,
   "id": "dc03c040-76bf-4204-a990-51d186e17644",
   "metadata": {
    "tags": []
   },
   "outputs": [
    {
     "name": "stdin",
     "output_type": "stream",
     "text": [
      "Enter the string: python\n"
     ]
    },
    {
     "name": "stdout",
     "output_type": "stream",
     "text": [
      "The input string is python\n",
      "The length of the python is 6\n"
     ]
    }
   ],
   "source": [
    "#q1 solution\n",
    "input_str = input(\"Enter the string:\")\n",
    "print(\"The input string is\", input_str)\n",
    "print(f\"The length of the {input_str} is\", len(input_str))"
   ]
  }
 ],
 "metadata": {
  "kernelspec": {
   "display_name": "Python 3 (ipykernel)",
   "language": "python",
   "name": "python3"
  },
  "language_info": {
   "codemirror_mode": {
    "name": "ipython",
    "version": 3
   },
   "file_extension": ".py",
   "mimetype": "text/x-python",
   "name": "python",
   "nbconvert_exporter": "python",
   "pygments_lexer": "ipython3",
   "version": "3.11.5"
  }
 },
 "nbformat": 4,
 "nbformat_minor": 5
}
