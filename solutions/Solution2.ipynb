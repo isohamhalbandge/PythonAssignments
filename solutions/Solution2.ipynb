{
 "cells": [
  {
   "cell_type": "markdown",
   "id": "ca629ab1-7d86-40c8-b587-56439182583c",
   "metadata": {},
   "source": [
    "## String Based Questions"
   ]
  },
  {
   "cell_type": "markdown",
   "id": "bdf304de-3d57-46ca-8bf6-71d0afb428d1",
   "metadata": {},
   "source": [
    "1. Write a program to reverse a string.\n",
    "2. Check if a string is a palindrome.\n",
    "3. Convert a string to uppercase.\n",
    "4. Convert a string to lowercase.\n",
    "5. Count the number of vowels in a string."
   ]
  },
  {
   "cell_type": "code",
   "execution_count": 1,
   "id": "d178bbc0-65e3-40ea-9d0e-d3b329cfab2c",
   "metadata": {
    "tags": []
   },
   "outputs": [
    {
     "name": "stdin",
     "output_type": "stream",
     "text": [
      "Enter the string: reversed_string\n"
     ]
    },
    {
     "name": "stdout",
     "output_type": "stream",
     "text": [
      "The reversed string is gnirts_desrever\n"
     ]
    }
   ],
   "source": [
    "# q1 solution\n",
    "input_str = input(\"Enter the string:\")\n",
    "reversed_str = input_str[::-1]\n",
    "print(f\"The reversed string is {reversed_str}\")"
   ]
  },
  {
   "cell_type": "code",
   "execution_count": 2,
   "id": "d11cfaaf-1a68-45ff-9acc-adc841048093",
   "metadata": {
    "tags": []
   },
   "outputs": [
    {
     "name": "stdin",
     "output_type": "stream",
     "text": [
      "Enter the string: arora\n"
     ]
    },
    {
     "name": "stdout",
     "output_type": "stream",
     "text": [
      "arora is a Palindrome!\n"
     ]
    }
   ],
   "source": [
    "# q2 solution\n",
    "input_str = input(\"Enter the string:\")\n",
    "reversed_str = input_str[::-1]\n",
    "if reversed_str == input_str:\n",
    "    print(f\"{input_str} is a Palindrome!\")\n",
    "else:\n",
    "    print(f\"{input_str} is not a Palindrome!\")"
   ]
  },
  {
   "cell_type": "code",
   "execution_count": 3,
   "id": "35b4a5ab-82f2-4cd5-bc21-f6282e455088",
   "metadata": {
    "tags": []
   },
   "outputs": [
    {
     "name": "stdin",
     "output_type": "stream",
     "text": [
      "Enter the string: hi this is lowercase\n"
     ]
    },
    {
     "name": "stdout",
     "output_type": "stream",
     "text": [
      "Upper case: HI THIS IS LOWERCASE\n"
     ]
    }
   ],
   "source": [
    "# q3 solution\n",
    "input_str = input(\"Enter the string:\")\n",
    "print(\"Upper case:\", input_str.upper())"
   ]
  },
  {
   "cell_type": "code",
   "execution_count": 4,
   "id": "bbed2b9f-8e1b-4564-abe2-930df76f8bc6",
   "metadata": {
    "tags": []
   },
   "outputs": [
    {
     "name": "stdin",
     "output_type": "stream",
     "text": [
      "Enter the string: HI THIS IS UPPERCASE\n"
     ]
    },
    {
     "name": "stdout",
     "output_type": "stream",
     "text": [
      "Lower case: hi this is uppercase\n"
     ]
    }
   ],
   "source": [
    "# q4 solution\n",
    "input_str = input(\"Enter the string:\")\n",
    "print(\"Lower case:\", input_str.lower())"
   ]
  },
  {
   "cell_type": "code",
   "execution_count": 6,
   "id": "94d28299-bc8a-4b7f-bac5-db1dbd9e4acc",
   "metadata": {
    "tags": []
   },
   "outputs": [
    {
     "name": "stdin",
     "output_type": "stream",
     "text": [
      "Enter the string: foxes in the forest\n"
     ]
    },
    {
     "name": "stdout",
     "output_type": "stream",
     "text": [
      "The input string is foxes in the forest\n",
      "Count of A =  0\n",
      "Count of E =  3\n",
      "Count of I =  1\n",
      "Count of O =  2\n",
      "Count of U =  0\n",
      "The total number of vowels in the string: 6\n"
     ]
    }
   ],
   "source": [
    "# q5 solution\n",
    "input_str = input(\"Enter the string:\")\n",
    "print(\"The input string is\", input_str)\n",
    "\n",
    "# using non optimal method and counting the occurence of each and every vowel\n",
    "# first converting the entire string to lower to match the occurences in single case \n",
    "count_A = input_str.lower().count('a')\n",
    "count_E = input_str.lower().count('e')\n",
    "count_I = input_str.lower().count('i')\n",
    "count_O = input_str.lower().count('o')\n",
    "count_U = input_str.lower().count('u')\n",
    "\n",
    "print(\"Count of A = \", count_A)\n",
    "print(\"Count of E = \", count_E)\n",
    "print(\"Count of I = \", count_I)\n",
    "print(\"Count of O = \", count_O)\n",
    "print(\"Count of U = \", count_U)\n",
    "\n",
    "total_vowels = count_A + count_E + count_I + count_O + count_U\n",
    "print(\"The total number of vowels in the string:\", total_vowels)"
   ]
  },
  {
   "cell_type": "markdown",
   "id": "d36af250-ae5c-4614-8dd2-6c31472e8e7d",
   "metadata": {},
   "source": [
    "6. Count the number of consonants in a string.\n",
    "7. Remove all whitespaces from a string.\n",
    "8. Find the length of a string without using the `len()` function.\n",
    "9. Check if a string contains a specific word.\n",
    "10. Replace a word in a string with another word."
   ]
  },
  {
   "cell_type": "code",
   "execution_count": 7,
   "id": "f2332a27-189e-458c-88d4-dc4de0c3626e",
   "metadata": {
    "tags": []
   },
   "outputs": [
    {
     "name": "stdin",
     "output_type": "stream",
     "text": [
      "Enter the string: Consonants\n"
     ]
    },
    {
     "name": "stdout",
     "output_type": "stream",
     "text": [
      "The input string is Consonants\n",
      "Count of A =  1\n",
      "Count of E =  0\n",
      "Count of I =  0\n",
      "Count of O =  2\n",
      "Count of U =  0\n",
      "The total number of consonants in the string: 7\n"
     ]
    }
   ],
   "source": [
    "# q6 solution\n",
    "input_str = input(\"Enter the string:\")\n",
    "print(\"The input string is\", input_str)\n",
    "\n",
    "# using non optimal method and counting the occurence of each and every vowel\n",
    "# first converting the entire string to lower to match the occurences in single case \n",
    "count_A = input_str.lower().count('a')\n",
    "count_E = input_str.lower().count('e')\n",
    "count_I = input_str.lower().count('i')\n",
    "count_O = input_str.lower().count('o')\n",
    "count_U = input_str.lower().count('u')\n",
    "\n",
    "print(\"Count of A = \", count_A)\n",
    "print(\"Count of E = \", count_E)\n",
    "print(\"Count of I = \", count_I)\n",
    "print(\"Count of O = \", count_O)\n",
    "print(\"Count of U = \", count_U)\n",
    "\n",
    "total_vowels = count_A + count_E + count_I + count_O + count_U\n",
    "\n",
    "# consonants in the string\n",
    "total_consonants = len(input_str) - total_vowels\n",
    "\n",
    "print(\"The total number of consonants in the string:\", total_consonants)"
   ]
  },
  {
   "cell_type": "code",
   "execution_count": 8,
   "id": "dbf4b759-e822-47d8-99c5-62ce0c2fe5f3",
   "metadata": {
    "tags": []
   },
   "outputs": [
    {
     "name": "stdin",
     "output_type": "stream",
     "text": [
      "Enter the string: this should remove whitespaces in program\n"
     ]
    },
    {
     "name": "stdout",
     "output_type": "stream",
     "text": [
      "The string without whitespaces: thisshouldremovewhitespacesinprogram\n"
     ]
    }
   ],
   "source": [
    "# q7 solution\n",
    "\n",
    "input_str = input(\"Enter the string:\")\n",
    "print(\"The string without whitespaces:\", input_str.replace(' ',''))"
   ]
  },
  {
   "cell_type": "code",
   "execution_count": 11,
   "id": "30169bc4-b800-4e18-b730-3335c16b1e98",
   "metadata": {
    "tags": []
   },
   "outputs": [
    {
     "name": "stdin",
     "output_type": "stream",
     "text": [
      "Enter the string: pikachu\n"
     ]
    },
    {
     "name": "stdout",
     "output_type": "stream",
     "text": [
      "The count of the string: 7\n"
     ]
    }
   ],
   "source": [
    "# q8 solution\n",
    "\n",
    "input_str = input(\"Enter the string:\")\n",
    "\n",
    "# counting the length of the string\n",
    "# with the help for loop so if we iterate whole string number of times the length would be same to that\n",
    "str_count = 0\n",
    "for i in input_str:\n",
    "    str_count += 1\n",
    "    \n",
    "print(\"The count of the string:\", str_count)"
   ]
  },
  {
   "cell_type": "code",
   "execution_count": 12,
   "id": "716e1a19-5265-41f3-86b5-fbfee7f69e72",
   "metadata": {
    "tags": []
   },
   "outputs": [
    {
     "name": "stdin",
     "output_type": "stream",
     "text": [
      "Enter the string: Hello\n",
      "Enter the specific word you want to find in input string: ello\n"
     ]
    },
    {
     "name": "stdout",
     "output_type": "stream",
     "text": [
      "True\n"
     ]
    }
   ],
   "source": [
    "# q9 solution\n",
    "# Check if a string contains a specific word.\n",
    "\n",
    "input_str = input(\"Enter the string:\")\n",
    "word_to_find = input(\"Enter the specific word you want to find in input string:\")\n",
    "\n",
    "if word_to_find in input_str:\n",
    "    print(True)\n",
    "else:\n",
    "    print(False)"
   ]
  },
  {
   "cell_type": "code",
   "execution_count": 19,
   "id": "d90f1759-8952-40aa-ba19-362d0f9b77f5",
   "metadata": {
    "tags": []
   },
   "outputs": [
    {
     "name": "stdout",
     "output_type": "stream",
     "text": [
      "Input String: Ash Ketchum\n",
      "Replaced String: Ash Pokemon\n"
     ]
    }
   ],
   "source": [
    "# q10 solution\n",
    "# Replace a word in a string with another word.\n",
    "\n",
    "input_str = 'Ash Ketchum'\n",
    "# replacing_word = input(\"Enter the word you want to replace with:\")\n",
    "\n",
    "print(\"Input String:\", input_str)\n",
    "print(\"Replaced String:\", input_str.replace('Ketchum', 'Pokemon'))"
   ]
  },
  {
   "cell_type": "markdown",
   "id": "7b2d06b3-2413-471e-8baf-0a401785a02f",
   "metadata": {},
   "source": [
    "11. Count the occurrences of a word in a string.\n",
    "12. Find the first occurrence of a word in a string.\n",
    "13. Find the last occurrence of a word in a string.\n",
    "14. Split a string into a list of words.\n",
    "15. Join a list of words into a string."
   ]
  },
  {
   "cell_type": "code",
   "execution_count": 8,
   "id": "e79c6c03-3cdd-45d8-8bc7-d291a33817ce",
   "metadata": {
    "tags": []
   },
   "outputs": [
    {
     "name": "stdin",
     "output_type": "stream",
     "text": [
      "Enter a string: my fav pokemon is pikachu.pikachu is so cute and pikachu is so awesome\n"
     ]
    },
    {
     "name": "stdout",
     "output_type": "stream",
     "text": [
      "The input string =  my fav pokemon is pikachu.pikachu is so cute and pikachu is so awesome\n",
      "Count of word pikachu is  3\n"
     ]
    }
   ],
   "source": [
    "# q11 solution\n",
    "\n",
    "input_str = input(\"Enter a string:\")\n",
    "print(\"The input string = \", input_str)\n",
    "print(\"Count of word pikachu is \", input_str.count(\"pikachu\"))"
   ]
  },
  {
   "cell_type": "code",
   "execution_count": 9,
   "id": "17931462-8f6e-47a5-8117-f42a7de83e36",
   "metadata": {
    "tags": []
   },
   "outputs": [
    {
     "name": "stdin",
     "output_type": "stream",
     "text": [
      "Enter a string: my fav pokemon is pikachu.pikachu is so cute and pikachu is so awesom\n"
     ]
    },
    {
     "name": "stdout",
     "output_type": "stream",
     "text": [
      "The input string =  my fav pokemon is pikachu.pikachu is so cute and pikachu is so awesom\n",
      "First occurence of a word is  18\n"
     ]
    }
   ],
   "source": [
    "# q12 solution\n",
    "\n",
    "input_str = input(\"Enter a string:\")\n",
    "print(\"The input string = \", input_str)\n",
    "print(\"First occurence of a word is \",input_str.index('pikachu'))"
   ]
  },
  {
   "cell_type": "code",
   "execution_count": 19,
   "id": "222c4867-8b8c-46b7-8132-e3039effc696",
   "metadata": {
    "tags": []
   },
   "outputs": [
    {
     "name": "stdin",
     "output_type": "stream",
     "text": [
      "Enter a string: my fav pokemon is pikachu.pikachu is so cute and pikachu is so awesom\n"
     ]
    },
    {
     "name": "stdout",
     "output_type": "stream",
     "text": [
      "The input string =  my fav pokemon is pikachu.pikachu is so cute and pikachu is so awesom\n",
      "Last occurence of a word is  49\n"
     ]
    }
   ],
   "source": [
    "# q13 solution\n",
    "\n",
    "input_str = input(\"Enter a string:\")\n",
    "print(\"The input string = \", input_str)\n",
    "print(\"Last occurence of a word is \",input_str.rfind('pikachu'))"
   ]
  },
  {
   "cell_type": "code",
   "execution_count": 11,
   "id": "f2238aa3-7a21-4497-aabd-30307c898eaf",
   "metadata": {
    "tags": []
   },
   "outputs": [
    {
     "name": "stdin",
     "output_type": "stream",
     "text": [
      "Enter a string: my fav pokemon is pikachu.pikachu is so cute and pikachu is so awesom\n"
     ]
    },
    {
     "name": "stdout",
     "output_type": "stream",
     "text": [
      "The input string =  my fav pokemon is pikachu.pikachu is so cute and pikachu is so awesom\n",
      "List:  ['my', 'fav', 'pokemon', 'is', 'pikachu.pikachu', 'is', 'so', 'cute', 'and', 'pikachu', 'is', 'so', 'awesom']\n"
     ]
    }
   ],
   "source": [
    "# q14 solution\n",
    "\n",
    "input_str = input(\"Enter a string:\")\n",
    "print(\"The input string = \", input_str)\n",
    "print(\"List: \", input_str.split(' '))"
   ]
  },
  {
   "cell_type": "code",
   "execution_count": 20,
   "id": "de1bd23b-706e-4c7a-8653-4b0afae09094",
   "metadata": {
    "tags": []
   },
   "outputs": [
    {
     "name": "stdout",
     "output_type": "stream",
     "text": [
      "List:  ['my', 'fav', 'pokemon', 'is', 'pikachu.pikachu', 'is', 'so', 'cute', 'and', 'pikachu', 'is', 'so', 'awesom']\n",
      "String:  my fav pokemon is pikachu.pikachu is so cute and pikachu is so awesom \n"
     ]
    }
   ],
   "source": [
    "# q15 solution\n",
    "\n",
    "# we have a list we have to convert all the items of the list into a single string\n",
    "# for that, we are taking an empty string first\n",
    "# we iterate through the list and add the items of the list in the string\n",
    "# finally printing the string once the iteration is done\n",
    "\n",
    "List =  ['my', 'fav', 'pokemon', 'is', 'pikachu.pikachu', 'is', 'so', 'cute', 'and', 'pikachu', 'is', 'so', 'awesom']\n",
    "string = ''\n",
    "for i in List:\n",
    "    string = string + i + \" \"\n",
    "    \n",
    "print(\"List: \", List)\n",
    "print(\"String: \", string)"
   ]
  },
  {
   "cell_type": "markdown",
   "id": "5032f4e3-dbcb-4fe7-8518-aa46b7d8e559",
   "metadata": {},
   "source": [
    "16. Convert a string where words are separated by spaces to one where words are separated by underscores.\n",
    "17. Check if a string starts with a specific word or phrase.\n",
    "18. Check if a string ends with a specific word or phrase.\n",
    "19. Convert a string to title case (e.g., \"hello world\" to \"Hello World\").\n",
    "20. Find the longest word in a string."
   ]
  },
  {
   "cell_type": "code",
   "execution_count": 2,
   "id": "25c4af05-0287-4bc9-8715-ae74edee1954",
   "metadata": {},
   "outputs": [
    {
     "name": "stdin",
     "output_type": "stream",
     "text": [
      "Enter the string:  Hello World\n"
     ]
    },
    {
     "name": "stdout",
     "output_type": "stream",
     "text": [
      "The input string is:  Hello World\n",
      "The replaced string is:  Hello_World\n"
     ]
    }
   ],
   "source": [
    "# q16 solution\n",
    "input_str = input(\"Enter the string: \")\n",
    "print(\"The input string is: \", input_str)\n",
    "print(\"The replaced string is: \", input_str.replace(' ','_'))"
   ]
  },
  {
   "cell_type": "code",
   "execution_count": 9,
   "id": "3869769b-4e08-4e6a-b4ac-2a4ae49a034f",
   "metadata": {},
   "outputs": [
    {
     "name": "stdin",
     "output_type": "stream",
     "text": [
      "Enter the string:  Pikachu is my fav pokemon\n"
     ]
    },
    {
     "name": "stdout",
     "output_type": "stream",
     "text": [
      "The input string is:  Pikachu is my fav pokemon\n",
      "True\n"
     ]
    }
   ],
   "source": [
    "# q17 solution\n",
    "input_str = input(\"Enter the string: \")\n",
    "print(\"The input string is: \", input_str)\n",
    "\n",
    "if input_str.startswith('Pikachu'):\n",
    "    print(True)\n",
    "else:\n",
    "    print(False)"
   ]
  },
  {
   "cell_type": "code",
   "execution_count": 12,
   "id": "0b59f578-71be-4a6b-b7ce-c3ab3d0eec6f",
   "metadata": {},
   "outputs": [
    {
     "name": "stdin",
     "output_type": "stream",
     "text": [
      "Enter the string:  everyones fav pokemon is Pikachu\n"
     ]
    },
    {
     "name": "stdout",
     "output_type": "stream",
     "text": [
      "The input string is:  everyones fav pokemon is Pikachu\n",
      "True\n"
     ]
    }
   ],
   "source": [
    "# q18 solution\n",
    "input_str = input(\"Enter the string: \")\n",
    "print(\"The input string is: \", input_str)\n",
    "\n",
    "if input_str.endswith('Pikachu'):\n",
    "    print(True)\n",
    "else:\n",
    "    print(False)"
   ]
  },
  {
   "cell_type": "code",
   "execution_count": 14,
   "id": "3af7b294-492c-4343-b83f-27f78ba30bee",
   "metadata": {},
   "outputs": [
    {
     "name": "stdin",
     "output_type": "stream",
     "text": [
      "Enter the string:  hello world\n"
     ]
    },
    {
     "name": "stdout",
     "output_type": "stream",
     "text": [
      "The input string is:  hello world\n",
      "Title case converted:  Hello World\n"
     ]
    }
   ],
   "source": [
    "# q19 solution\n",
    "input_str = input(\"Enter the string: \")\n",
    "print(\"The input string is: \", input_str)\n",
    "print(\"Title case converted: \", input_str.title())"
   ]
  },
  {
   "cell_type": "code",
   "execution_count": 21,
   "id": "05ed4be4-ed73-4828-b064-0bf3d1110be0",
   "metadata": {},
   "outputs": [
    {
     "name": "stdin",
     "output_type": "stream",
     "text": [
      "Enter the string:  my fav pokemon is pikachu but mewtwo and lucario are more powerful than pikachu\n"
     ]
    },
    {
     "name": "stdout",
     "output_type": "stream",
     "text": [
      "The input string is:  my fav pokemon is pikachu but mewtwo and lucario are more powerful than pikachu\n",
      "['my', 'fav', 'pokemon', 'is', 'pikachu', 'but', 'mewtwo', 'and', 'lucario', 'are', 'more', 'powerful', 'than', 'pikachu']\n",
      "Maximum length word:  powerful\n"
     ]
    }
   ],
   "source": [
    "#q19 \n",
    "input_str = input(\"Enter the string: \")\n",
    "print(\"The input string is: \", input_str)\n",
    "List = input_str.split(' ')\n",
    "print(List)\n",
    "\n",
    "max_length = 0\n",
    "max_word = \"\"\n",
    "\n",
    "for i in List:\n",
    "    if len(i) >= max_length:\n",
    "        max_length = len(i)\n",
    "        max_word = i\n",
    "\n",
    "print(\"Maximum length word: \", max_word)"
   ]
  },
  {
   "cell_type": "code",
   "execution_count": null,
   "id": "1e0f6bf9-7e92-41ba-9f04-4a6f90be90a5",
   "metadata": {},
   "outputs": [],
   "source": []
  }
 ],
 "metadata": {
  "kernelspec": {
   "display_name": "Python 3 (ipykernel)",
   "language": "python",
   "name": "python3"
  },
  "language_info": {
   "codemirror_mode": {
    "name": "ipython",
    "version": 3
   },
   "file_extension": ".py",
   "mimetype": "text/x-python",
   "name": "python",
   "nbconvert_exporter": "python",
   "pygments_lexer": "ipython3",
   "version": "3.8.18"
  }
 },
 "nbformat": 4,
 "nbformat_minor": 5
}
