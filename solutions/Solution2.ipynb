{
 "cells": [
  {
   "cell_type": "markdown",
   "id": "ca629ab1-7d86-40c8-b587-56439182583c",
   "metadata": {},
   "source": [
    "## String Based Questions"
   ]
  },
  {
   "cell_type": "markdown",
   "id": "bdf304de-3d57-46ca-8bf6-71d0afb428d1",
   "metadata": {},
   "source": [
    "1. Write a program to reverse a string.\n",
    "2. Check if a string is a palindrome.\n",
    "3. Convert a string to uppercase.\n",
    "4. Convert a string to lowercase.\n",
    "5. Count the number of vowels in a string."
   ]
  },
  {
   "cell_type": "code",
   "execution_count": 1,
   "id": "d178bbc0-65e3-40ea-9d0e-d3b329cfab2c",
   "metadata": {
    "tags": []
   },
   "outputs": [
    {
     "name": "stdin",
     "output_type": "stream",
     "text": [
      "Enter the string: reversed_string\n"
     ]
    },
    {
     "name": "stdout",
     "output_type": "stream",
     "text": [
      "The reversed string is gnirts_desrever\n"
     ]
    }
   ],
   "source": [
    "# q1 solution\n",
    "input_str = input(\"Enter the string:\")\n",
    "reversed_str = input_str[::-1]\n",
    "print(f\"The reversed string is {reversed_str}\")"
   ]
  },
  {
   "cell_type": "code",
   "execution_count": 2,
   "id": "d11cfaaf-1a68-45ff-9acc-adc841048093",
   "metadata": {
    "tags": []
   },
   "outputs": [
    {
     "name": "stdin",
     "output_type": "stream",
     "text": [
      "Enter the string: arora\n"
     ]
    },
    {
     "name": "stdout",
     "output_type": "stream",
     "text": [
      "arora is a Palindrome!\n"
     ]
    }
   ],
   "source": [
    "# q2 solution\n",
    "input_str = input(\"Enter the string:\")\n",
    "reversed_str = input_str[::-1]\n",
    "if reversed_str == input_str:\n",
    "    print(f\"{input_str} is a Palindrome!\")\n",
    "else:\n",
    "    print(f\"{input_str} is not a Palindrome!\")"
   ]
  },
  {
   "cell_type": "code",
   "execution_count": 3,
   "id": "35b4a5ab-82f2-4cd5-bc21-f6282e455088",
   "metadata": {
    "tags": []
   },
   "outputs": [
    {
     "name": "stdin",
     "output_type": "stream",
     "text": [
      "Enter the string: hi this is lowercase\n"
     ]
    },
    {
     "name": "stdout",
     "output_type": "stream",
     "text": [
      "Upper case: HI THIS IS LOWERCASE\n"
     ]
    }
   ],
   "source": [
    "# q3 solution\n",
    "input_str = input(\"Enter the string:\")\n",
    "print(\"Upper case:\", input_str.upper())"
   ]
  },
  {
   "cell_type": "code",
   "execution_count": 4,
   "id": "bbed2b9f-8e1b-4564-abe2-930df76f8bc6",
   "metadata": {
    "tags": []
   },
   "outputs": [
    {
     "name": "stdin",
     "output_type": "stream",
     "text": [
      "Enter the string: HI THIS IS UPPERCASE\n"
     ]
    },
    {
     "name": "stdout",
     "output_type": "stream",
     "text": [
      "Lower case: hi this is uppercase\n"
     ]
    }
   ],
   "source": [
    "# q4 solution\n",
    "input_str = input(\"Enter the string:\")\n",
    "print(\"Lower case:\", input_str.lower())"
   ]
  },
  {
   "cell_type": "code",
   "execution_count": 6,
   "id": "94d28299-bc8a-4b7f-bac5-db1dbd9e4acc",
   "metadata": {
    "tags": []
   },
   "outputs": [
    {
     "name": "stdin",
     "output_type": "stream",
     "text": [
      "Enter the string: foxes in the forest\n"
     ]
    },
    {
     "name": "stdout",
     "output_type": "stream",
     "text": [
      "The input string is foxes in the forest\n",
      "Count of A =  0\n",
      "Count of E =  3\n",
      "Count of I =  1\n",
      "Count of O =  2\n",
      "Count of U =  0\n",
      "The total number of vowels in the string: 6\n"
     ]
    }
   ],
   "source": [
    "# q5 solution\n",
    "input_str = input(\"Enter the string:\")\n",
    "print(\"The input string is\", input_str)\n",
    "\n",
    "# using non optimal method and counting the occurence of each and every vowel\n",
    "# first converting the entire string to lower to match the occurences in single case \n",
    "count_A = input_str.lower().count('a')\n",
    "count_E = input_str.lower().count('e')\n",
    "count_I = input_str.lower().count('i')\n",
    "count_O = input_str.lower().count('o')\n",
    "count_U = input_str.lower().count('u')\n",
    "\n",
    "print(\"Count of A = \", count_A)\n",
    "print(\"Count of E = \", count_E)\n",
    "print(\"Count of I = \", count_I)\n",
    "print(\"Count of O = \", count_O)\n",
    "print(\"Count of U = \", count_U)\n",
    "\n",
    "total_vowels = count_A + count_E + count_I + count_O + count_U\n",
    "print(\"The total number of vowels in the string:\", total_vowels)"
   ]
  },
  {
   "cell_type": "markdown",
   "id": "d36af250-ae5c-4614-8dd2-6c31472e8e7d",
   "metadata": {},
   "source": [
    "6. Count the number of consonants in a string.\n",
    "7. Remove all whitespaces from a string.\n",
    "8. Find the length of a string without using the `len()` function.\n",
    "9. Check if a string contains a specific word.\n",
    "10. Replace a word in a string with another word."
   ]
  },
  {
   "cell_type": "code",
   "execution_count": 7,
   "id": "f2332a27-189e-458c-88d4-dc4de0c3626e",
   "metadata": {
    "tags": []
   },
   "outputs": [
    {
     "name": "stdin",
     "output_type": "stream",
     "text": [
      "Enter the string: Consonants\n"
     ]
    },
    {
     "name": "stdout",
     "output_type": "stream",
     "text": [
      "The input string is Consonants\n",
      "Count of A =  1\n",
      "Count of E =  0\n",
      "Count of I =  0\n",
      "Count of O =  2\n",
      "Count of U =  0\n",
      "The total number of consonants in the string: 7\n"
     ]
    }
   ],
   "source": [
    "# q6 solution\n",
    "input_str = input(\"Enter the string:\")\n",
    "print(\"The input string is\", input_str)\n",
    "\n",
    "# using non optimal method and counting the occurence of each and every vowel\n",
    "# first converting the entire string to lower to match the occurences in single case \n",
    "count_A = input_str.lower().count('a')\n",
    "count_E = input_str.lower().count('e')\n",
    "count_I = input_str.lower().count('i')\n",
    "count_O = input_str.lower().count('o')\n",
    "count_U = input_str.lower().count('u')\n",
    "\n",
    "print(\"Count of A = \", count_A)\n",
    "print(\"Count of E = \", count_E)\n",
    "print(\"Count of I = \", count_I)\n",
    "print(\"Count of O = \", count_O)\n",
    "print(\"Count of U = \", count_U)\n",
    "\n",
    "total_vowels = count_A + count_E + count_I + count_O + count_U\n",
    "\n",
    "# consonants in the string\n",
    "total_consonants = len(input_str) - total_vowels\n",
    "\n",
    "print(\"The total number of consonants in the string:\", total_consonants)"
   ]
  },
  {
   "cell_type": "code",
   "execution_count": 8,
   "id": "dbf4b759-e822-47d8-99c5-62ce0c2fe5f3",
   "metadata": {
    "tags": []
   },
   "outputs": [
    {
     "name": "stdin",
     "output_type": "stream",
     "text": [
      "Enter the string: this should remove whitespaces in program\n"
     ]
    },
    {
     "name": "stdout",
     "output_type": "stream",
     "text": [
      "The string without whitespaces: thisshouldremovewhitespacesinprogram\n"
     ]
    }
   ],
   "source": [
    "# q7 solution\n",
    "\n",
    "input_str = input(\"Enter the string:\")\n",
    "print(\"The string without whitespaces:\", input_str.replace(' ',''))"
   ]
  },
  {
   "cell_type": "code",
   "execution_count": 11,
   "id": "30169bc4-b800-4e18-b730-3335c16b1e98",
   "metadata": {
    "tags": []
   },
   "outputs": [
    {
     "name": "stdin",
     "output_type": "stream",
     "text": [
      "Enter the string: pikachu\n"
     ]
    },
    {
     "name": "stdout",
     "output_type": "stream",
     "text": [
      "The count of the string: 7\n"
     ]
    }
   ],
   "source": [
    "# q8 solution\n",
    "\n",
    "input_str = input(\"Enter the string:\")\n",
    "\n",
    "# counting the length of the string\n",
    "# with the help for loop so if we iterate whole string number of times the length would be same to that\n",
    "str_count = 0\n",
    "for i in input_str:\n",
    "    str_count += 1\n",
    "    \n",
    "print(\"The count of the string:\", str_count)"
   ]
  },
  {
   "cell_type": "code",
   "execution_count": 12,
   "id": "716e1a19-5265-41f3-86b5-fbfee7f69e72",
   "metadata": {
    "tags": []
   },
   "outputs": [
    {
     "name": "stdin",
     "output_type": "stream",
     "text": [
      "Enter the string: Hello\n",
      "Enter the specific word you want to find in input string: ello\n"
     ]
    },
    {
     "name": "stdout",
     "output_type": "stream",
     "text": [
      "True\n"
     ]
    }
   ],
   "source": [
    "# q9 solution\n",
    "# Check if a string contains a specific word.\n",
    "\n",
    "input_str = input(\"Enter the string:\")\n",
    "word_to_find = input(\"Enter the specific word you want to find in input string:\")\n",
    "\n",
    "if word_to_find in input_str:\n",
    "    print(True)\n",
    "else:\n",
    "    print(False)"
   ]
  },
  {
   "cell_type": "code",
   "execution_count": 19,
   "id": "d90f1759-8952-40aa-ba19-362d0f9b77f5",
   "metadata": {
    "tags": []
   },
   "outputs": [
    {
     "name": "stdout",
     "output_type": "stream",
     "text": [
      "Input String: Ash Ketchum\n",
      "Replaced String: Ash Pokemon\n"
     ]
    }
   ],
   "source": [
    "# q10 solution\n",
    "# Replace a word in a string with another word.\n",
    "\n",
    "input_str = 'Ash Ketchum'\n",
    "# replacing_word = input(\"Enter the word you want to replace with:\")\n",
    "\n",
    "print(\"Input String:\", input_str)\n",
    "print(\"Replaced String:\", input_str.replace('Ketchum', 'Pokemon'))"
   ]
  },
  {
   "cell_type": "code",
   "execution_count": null,
   "id": "5d8700e7-ae05-4e0c-b9b8-cba36b446425",
   "metadata": {},
   "outputs": [],
   "source": []
  }
 ],
 "metadata": {
  "kernelspec": {
   "display_name": "Python 3 (ipykernel)",
   "language": "python",
   "name": "python3"
  },
  "language_info": {
   "codemirror_mode": {
    "name": "ipython",
    "version": 3
   },
   "file_extension": ".py",
   "mimetype": "text/x-python",
   "name": "python",
   "nbconvert_exporter": "python",
   "pygments_lexer": "ipython3",
   "version": "3.11.5"
  }
 },
 "nbformat": 4,
 "nbformat_minor": 5
}
